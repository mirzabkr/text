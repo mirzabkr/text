{
  "nbformat": 4,
  "nbformat_minor": 0,
  "metadata": {
    "colab": {
      "provenance": []
    },
    "kernelspec": {
      "name": "python3",
      "display_name": "Python 3"
    },
    "language_info": {
      "name": "python"
    }
  },
  "cells": [
    {
      "cell_type": "code",
      "execution_count": 1,
      "metadata": {
        "colab": {
          "base_uri": "https://localhost:8080/"
        },
        "id": "v-Sy-Yb8Uj33",
        "outputId": "6f69eb31-a731-4efe-a7aa-c2ba86147c62"
      },
      "outputs": [
        {
          "output_type": "stream",
          "name": "stdout",
          "text": [
            "my github project\n",
            "upload it on github\n",
            "6\n"
          ]
        }
      ],
      "source": [
        "print('my github project')\n",
        "print('upload it on github')\n",
        "print(4+2)"
      ]
    }
  ]
}