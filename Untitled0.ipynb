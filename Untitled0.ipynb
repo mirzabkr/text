{
  "nbformat": 4,
  "nbformat_minor": 0,
  "metadata": {
    "colab": {
      "provenance": []
    },
    "kernelspec": {
      "name": "python3",
      "display_name": "Python 3"
    },
    "language_info": {
      "name": "python"
    }
  },
  "cells": [
    {
      "cell_type": "code",
      "execution_count": 2,
      "metadata": {
        "colab": {
          "base_uri": "https://localhost:8080/"
        },
        "id": "v-Sy-Yb8Uj33",
        "outputId": "309cb4d6-d5b2-4430-8250-64503535d28a"
      },
      "outputs": [
        {
          "output_type": "stream",
          "name": "stdout",
          "text": [
            "my github project\n",
            "upload it on github\n",
            "6\n"
          ]
        }
      ],
      "source": [
        "print('my github project')\n",
        "print('upload it on github')\n",
        "print(4+2)\n"
      ]
    },
    {
      "cell_type": "code",
      "source": [
        "print('my github project')\n",
        "print('upload it on github')\n",
        "print(4+2)\n",
        "\n"
      ],
      "metadata": {
        "colab": {
          "base_uri": "https://localhost:8080/"
        },
        "id": "Kbn45MD4Zt5V",
        "outputId": "72690c20-fbd8-4c22-959e-9e0f4e9b1c83"
      },
      "execution_count": 3,
      "outputs": [
        {
          "output_type": "stream",
          "name": "stdout",
          "text": [
            "my github project\n",
            "upload it on github\n",
            "6\n"
          ]
        }
      ]
    }
  ]
}